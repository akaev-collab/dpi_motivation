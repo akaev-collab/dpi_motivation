{
 "cells": [
  {
   "cell_type": "code",
   "execution_count": 2,
   "metadata": {},
   "outputs": [],
   "source": [
    "import pandas as pd\n",
    "import numpy as np"
   ]
  },
  {
   "cell_type": "code",
   "execution_count": 3,
   "metadata": {},
   "outputs": [],
   "source": [
    "file_name = \"data_file/data_02.2024.xlsx\"\n",
    "\n",
    "def load_data(file, sheet):\n",
    "    \n",
    "    data = pd.read_excel(file_name, sheet_name=sheet)\n",
    "    \n",
    "    return data"
   ]
  },
  {
   "cell_type": "code",
   "execution_count": 4,
   "metadata": {},
   "outputs": [],
   "source": [
    "df_load = load_data(file_name, \"P_RD\")"
   ]
  },
  {
   "cell_type": "code",
   "execution_count": 5,
   "metadata": {},
   "outputs": [],
   "source": [
    "df_izm = load_data(file_name, \"IZM\")"
   ]
  },
  {
   "cell_type": "code",
   "execution_count": 6,
   "metadata": {},
   "outputs": [],
   "source": [
    "df_izm[\"Дата изменения (план)\"] = pd.to_datetime(df_izm[\"Дата изменения (план)\"])\n",
    "df_izm_group = df_izm.groupby([pd.Grouper(key = \"Дата изменения (факт)\", freq = \"M\")]).aggregate({\"Кол-во листов по разделам\":\"sum\"}).reset_index()\n",
    "df_sheet_group = df_load.groupby([pd.Grouper(key = \"Срок выдачи (факт)\", freq = \"M\")]).aggregate({\"Кол-во листов\":\"sum\"}).reset_index()\n",
    "df_izm_group = df_izm_group.rename(columns={\"Дата изменения (факт)\":\"Дата\"})\n",
    "df_sheet_group = df_sheet_group.rename(columns={\"Срок выдачи (факт)\":\"Дата\"})"
   ]
  },
  {
   "cell_type": "code",
   "execution_count": 7,
   "metadata": {},
   "outputs": [
    {
     "data": {
      "text/html": [
       "<div>\n",
       "<style scoped>\n",
       "    .dataframe tbody tr th:only-of-type {\n",
       "        vertical-align: middle;\n",
       "    }\n",
       "\n",
       "    .dataframe tbody tr th {\n",
       "        vertical-align: top;\n",
       "    }\n",
       "\n",
       "    .dataframe thead th {\n",
       "        text-align: right;\n",
       "    }\n",
       "</style>\n",
       "<table border=\"1\" class=\"dataframe\">\n",
       "  <thead>\n",
       "    <tr style=\"text-align: right;\">\n",
       "      <th></th>\n",
       "      <th>Дата</th>\n",
       "      <th>Кол-во листов</th>\n",
       "    </tr>\n",
       "  </thead>\n",
       "  <tbody>\n",
       "    <tr>\n",
       "      <th>0</th>\n",
       "      <td>2023-01-31</td>\n",
       "      <td>2712</td>\n",
       "    </tr>\n",
       "    <tr>\n",
       "      <th>1</th>\n",
       "      <td>2023-02-28</td>\n",
       "      <td>7940</td>\n",
       "    </tr>\n",
       "    <tr>\n",
       "      <th>2</th>\n",
       "      <td>2023-03-31</td>\n",
       "      <td>9365</td>\n",
       "    </tr>\n",
       "    <tr>\n",
       "      <th>3</th>\n",
       "      <td>2023-04-30</td>\n",
       "      <td>4833</td>\n",
       "    </tr>\n",
       "    <tr>\n",
       "      <th>4</th>\n",
       "      <td>2023-05-31</td>\n",
       "      <td>7330</td>\n",
       "    </tr>\n",
       "    <tr>\n",
       "      <th>5</th>\n",
       "      <td>2023-06-30</td>\n",
       "      <td>4172</td>\n",
       "    </tr>\n",
       "    <tr>\n",
       "      <th>6</th>\n",
       "      <td>2023-07-31</td>\n",
       "      <td>9360</td>\n",
       "    </tr>\n",
       "    <tr>\n",
       "      <th>7</th>\n",
       "      <td>2023-08-31</td>\n",
       "      <td>10807</td>\n",
       "    </tr>\n",
       "    <tr>\n",
       "      <th>8</th>\n",
       "      <td>2023-09-30</td>\n",
       "      <td>5669</td>\n",
       "    </tr>\n",
       "    <tr>\n",
       "      <th>9</th>\n",
       "      <td>2023-10-31</td>\n",
       "      <td>8172</td>\n",
       "    </tr>\n",
       "    <tr>\n",
       "      <th>10</th>\n",
       "      <td>2023-11-30</td>\n",
       "      <td>5964</td>\n",
       "    </tr>\n",
       "    <tr>\n",
       "      <th>11</th>\n",
       "      <td>2023-12-31</td>\n",
       "      <td>10903</td>\n",
       "    </tr>\n",
       "  </tbody>\n",
       "</table>\n",
       "</div>"
      ],
      "text/plain": [
       "         Дата  Кол-во листов\n",
       "0  2023-01-31           2712\n",
       "1  2023-02-28           7940\n",
       "2  2023-03-31           9365\n",
       "3  2023-04-30           4833\n",
       "4  2023-05-31           7330\n",
       "5  2023-06-30           4172\n",
       "6  2023-07-31           9360\n",
       "7  2023-08-31          10807\n",
       "8  2023-09-30           5669\n",
       "9  2023-10-31           8172\n",
       "10 2023-11-30           5964\n",
       "11 2023-12-31          10903"
      ]
     },
     "execution_count": 7,
     "metadata": {},
     "output_type": "execute_result"
    }
   ],
   "source": [
    "df_sheet_group"
   ]
  },
  {
   "cell_type": "code",
   "execution_count": 8,
   "metadata": {},
   "outputs": [
    {
     "data": {
      "text/plain": [
       "10903"
      ]
     },
     "execution_count": 8,
     "metadata": {},
     "output_type": "execute_result"
    }
   ],
   "source": [
    "df_sheet_group[\"Кол-во листов\"].max()"
   ]
  },
  {
   "cell_type": "code",
   "execution_count": 17,
   "metadata": {},
   "outputs": [],
   "source": [
    "total_master_izm = df_sheet_group.merge(df_izm_group, how='outer')\n",
    "total_master_izm[\"% изм\"] = total_master_izm[\"Кол-во листов по разделам\"] / total_master_izm[\"Кол-во листов\"]\n",
    "total_master_izm = total_master_izm.fillna(0)\n",
    "total_master_izm = total_master_izm.replace({np.inf:0})"
   ]
  },
  {
   "cell_type": "code",
   "execution_count": 18,
   "metadata": {},
   "outputs": [
    {
     "data": {
      "text/html": [
       "<div>\n",
       "<style scoped>\n",
       "    .dataframe tbody tr th:only-of-type {\n",
       "        vertical-align: middle;\n",
       "    }\n",
       "\n",
       "    .dataframe tbody tr th {\n",
       "        vertical-align: top;\n",
       "    }\n",
       "\n",
       "    .dataframe thead th {\n",
       "        text-align: right;\n",
       "    }\n",
       "</style>\n",
       "<table border=\"1\" class=\"dataframe\">\n",
       "  <thead>\n",
       "    <tr style=\"text-align: right;\">\n",
       "      <th></th>\n",
       "      <th>Дата</th>\n",
       "      <th>Кол-во листов</th>\n",
       "      <th>Кол-во листов по разделам</th>\n",
       "      <th>% изм</th>\n",
       "    </tr>\n",
       "  </thead>\n",
       "  <tbody>\n",
       "    <tr>\n",
       "      <th>0</th>\n",
       "      <td>2023-01-31</td>\n",
       "      <td>2712</td>\n",
       "      <td>37</td>\n",
       "      <td>0.013643</td>\n",
       "    </tr>\n",
       "    <tr>\n",
       "      <th>1</th>\n",
       "      <td>2023-02-28</td>\n",
       "      <td>7940</td>\n",
       "      <td>225</td>\n",
       "      <td>0.028338</td>\n",
       "    </tr>\n",
       "    <tr>\n",
       "      <th>2</th>\n",
       "      <td>2023-03-31</td>\n",
       "      <td>9365</td>\n",
       "      <td>1164</td>\n",
       "      <td>0.124293</td>\n",
       "    </tr>\n",
       "    <tr>\n",
       "      <th>3</th>\n",
       "      <td>2023-04-30</td>\n",
       "      <td>4833</td>\n",
       "      <td>543</td>\n",
       "      <td>0.112353</td>\n",
       "    </tr>\n",
       "    <tr>\n",
       "      <th>4</th>\n",
       "      <td>2023-05-31</td>\n",
       "      <td>7330</td>\n",
       "      <td>599</td>\n",
       "      <td>0.081719</td>\n",
       "    </tr>\n",
       "    <tr>\n",
       "      <th>5</th>\n",
       "      <td>2023-06-30</td>\n",
       "      <td>4172</td>\n",
       "      <td>274</td>\n",
       "      <td>0.065676</td>\n",
       "    </tr>\n",
       "    <tr>\n",
       "      <th>6</th>\n",
       "      <td>2023-07-31</td>\n",
       "      <td>9360</td>\n",
       "      <td>435</td>\n",
       "      <td>0.046474</td>\n",
       "    </tr>\n",
       "    <tr>\n",
       "      <th>7</th>\n",
       "      <td>2023-08-31</td>\n",
       "      <td>10807</td>\n",
       "      <td>725</td>\n",
       "      <td>0.067086</td>\n",
       "    </tr>\n",
       "    <tr>\n",
       "      <th>8</th>\n",
       "      <td>2023-09-30</td>\n",
       "      <td>5669</td>\n",
       "      <td>599</td>\n",
       "      <td>0.105662</td>\n",
       "    </tr>\n",
       "    <tr>\n",
       "      <th>9</th>\n",
       "      <td>2023-10-31</td>\n",
       "      <td>8172</td>\n",
       "      <td>365</td>\n",
       "      <td>0.044665</td>\n",
       "    </tr>\n",
       "    <tr>\n",
       "      <th>10</th>\n",
       "      <td>2023-11-30</td>\n",
       "      <td>5964</td>\n",
       "      <td>325</td>\n",
       "      <td>0.054494</td>\n",
       "    </tr>\n",
       "    <tr>\n",
       "      <th>11</th>\n",
       "      <td>2023-12-31</td>\n",
       "      <td>10903</td>\n",
       "      <td>4</td>\n",
       "      <td>0.000367</td>\n",
       "    </tr>\n",
       "  </tbody>\n",
       "</table>\n",
       "</div>"
      ],
      "text/plain": [
       "         Дата  Кол-во листов  Кол-во листов по разделам     % изм\n",
       "0  2023-01-31           2712                         37  0.013643\n",
       "1  2023-02-28           7940                        225  0.028338\n",
       "2  2023-03-31           9365                       1164  0.124293\n",
       "3  2023-04-30           4833                        543  0.112353\n",
       "4  2023-05-31           7330                        599  0.081719\n",
       "5  2023-06-30           4172                        274  0.065676\n",
       "6  2023-07-31           9360                        435  0.046474\n",
       "7  2023-08-31          10807                        725  0.067086\n",
       "8  2023-09-30           5669                        599  0.105662\n",
       "9  2023-10-31           8172                        365  0.044665\n",
       "10 2023-11-30           5964                        325  0.054494\n",
       "11 2023-12-31          10903                          4  0.000367"
      ]
     },
     "execution_count": 18,
     "metadata": {},
     "output_type": "execute_result"
    }
   ],
   "source": [
    "total_master_izm"
   ]
  },
  {
   "cell_type": "code",
   "execution_count": null,
   "metadata": {},
   "outputs": [],
   "source": []
  }
 ],
 "metadata": {
  "kernelspec": {
   "display_name": "Python 3",
   "language": "python",
   "name": "python3"
  },
  "language_info": {
   "codemirror_mode": {
    "name": "ipython",
    "version": 3
   },
   "file_extension": ".py",
   "mimetype": "text/x-python",
   "name": "python",
   "nbconvert_exporter": "python",
   "pygments_lexer": "ipython3",
   "version": "3.11.5"
  },
  "orig_nbformat": 4
 },
 "nbformat": 4,
 "nbformat_minor": 2
}
